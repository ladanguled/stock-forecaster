{
 "cells": [
  {
   "cell_type": "code",
   "execution_count": 65,
   "metadata": {},
   "outputs": [],
   "source": [
    "import pandas as pd\n",
    "import numpy as np\n",
    "import matplotlib.pyplot as plt\n",
    "\n",
    "from sklearn.preprocessing import MinMaxScaler"
   ]
  },
  {
   "cell_type": "markdown",
   "metadata": {},
   "source": [
    "### Data normalization"
   ]
  },
  {
   "cell_type": "code",
   "execution_count": 66,
   "metadata": {},
   "outputs": [
    {
     "name": "stdout",
     "output_type": "stream",
     "text": [
      "Scaled Dataset [[0.02178077 0.02218961 0.0222653  0.02321884 0.02321884]\n",
      " [0.02340614 0.02229449 0.02292175 0.02281891 0.02281891]\n",
      " [0.02241918 0.02303213 0.02290912 0.02406531 0.02406531]\n",
      " ...\n",
      " [0.92136283 0.92917453 0.93113632 0.93335322 0.93335322]\n",
      " [0.91172569 0.92386149 0.91428695 0.9128285  0.9128285 ]\n",
      " [0.90637076 0.9085342  0.87980986 0.88062476 0.88062476]]\n"
     ]
    }
   ],
   "source": [
    "# Loading the dataset from GOOG.csv file\n",
    "dataframe = pd.read_csv('GOOG.csv')\n",
    "\n",
    "## Data Analysis portion\n",
    "\n",
    "# print the dimensions of the Dataframe\n",
    "print(dataframe.columns.shape)\n",
    "\n",
    "#print the data types that can be pulled from the entire dataset\n",
    "print(dataframe.info())\n",
    "\n",
    "# print the dataset - no need to group by because the values in each row is unique\n",
    "print(dataframe)\n",
    "\n",
    "# pull relevant data from dataset (in this case we are pulling the Open, High, Low, Close and Adj Close values from our dataframe)\n",
    "adjClosedata = dataframe.values[:, 1:6]\n",
    "\n",
    "# Instantiate the scaler and transform the data\n",
    "scaler = MinMaxScaler()\n",
    "scaled = scaler.fit_transform(adjClosedata)\n",
    "\n",
    "print(\"Scaled Dataset\", scaled)\n"
   ]
  }
 ],
 "metadata": {
  "interpreter": {
   "hash": "2c579e32870aef6b18cea5a64b8ec139b96c55b5d04e172ff85b3e042ff017fa"
  },
  "kernelspec": {
   "display_name": "Python 3.10.2 64-bit",
   "language": "python",
   "name": "python3"
  },
  "language_info": {
   "codemirror_mode": {
    "name": "ipython",
    "version": 3
   },
   "file_extension": ".py",
   "mimetype": "text/x-python",
   "name": "python",
   "nbconvert_exporter": "python",
   "pygments_lexer": "ipython3",
   "version": "3.10.2"
  },
  "orig_nbformat": 4
 },
 "nbformat": 4,
 "nbformat_minor": 2
}
